{
 "cells": [
  {
   "cell_type": "code",
   "execution_count": 1,
   "id": "78bac5d9",
   "metadata": {},
   "outputs": [],
   "source": [
    "#Import Libraries\n",
    "import pandas as pd\n",
    "import numpy as np\n",
    "import datetime\n",
    "import warnings\n",
    "import matplotlib.pyplot as plt\n",
    "import seaborn as sns\n",
    "\n",
    "#Settings\n",
    "warnings.filterwarnings('ignore')\n",
    "pd.set_option('display.max_columns', None) # display all columns\n",
    "pd.set_option('display.max_rows', None) #Show all the rows"
   ]
  },
  {
   "cell_type": "markdown",
   "id": "48af4acd",
   "metadata": {},
   "source": [
    "It is assumed that the mean systolic blood pressure is μ = 120 mm Hg. In the Honolulu Heart Study, a sample of n = 100 people had an average systolic blood pressure of 130.1 mm Hg with a standard deviation of 21.21 mm Hg. Is the group significantly different (with respect to systolic blood pressure!) from the regular population?\n",
    "\n",
    "Set up the hypothesis test.\n",
    "Write down all the steps followed for setting up the test.\n",
    "Calculate the test statistic by hand and also code it in Python. It should be 4.76190. We will take a look at how to make decisions based on this calculated value."
   ]
  },
  {
   "cell_type": "markdown",
   "id": "7f08e868",
   "metadata": {},
   "source": [
    "\n",
    "Hypothesis testing is a way to test the results of an experiment and see if you have meaningful results.\n",
    "\n",
    "* **Null hypothesis:** Denoted with H0, a null hypothesis is an **assumption that the population average is identical to a specific value**. The typical notation is μ = μ0, where μ refers to the population mean and μ0 refers to the hypothesized value.\n",
    "<br><br>\n",
    "* **Alternate hypothesis:** An alternative hypothesis is the opposite of the null hypothesis. We compare this hypothesis with the null hypothesis to decide whether or not we reject the null hypothesis. We denote the alternative hypothesis with H1 or Ha.\n",
    "<br><br>\n",
    "* **Significance Level:** Indicates whether we are confident enough to reject the null hypothesis.\n",
    "<br><br>\n",
    "* **Test Statistic:** Once we determine the type of hypothesis test and that our assumptions have been met, we use our data to decide whether to reject or not reject the null hypothesis. (z-test, t-test)\n",
    "<br><br>\n",
    "* **p-value:** is a measure used to help us reject or not the null hypothesis\n",
    "\n",
    "**Step 1:** The H0 hypothesis is that the average of the sample is not significantly different from the average of the whole population. H0: μ = 120;\n",
    "\n",
    "**Step 2:** Alternate hypothesis Ha: μ =! 85\n",
    "\n",
    "**Step 3:** This is a two tailed test \n",
    "\n",
    "**Step 4:** sample is greater than 30 so we can use t-test or normal\n",
    "\n",
    "**Step 5:** Significance or alpha is defined by me now as 95% or 0.05. Because of two tailed the alpha/2 is 0.025\n",
    "\n",
    "**Step 6:** test statistic\n",
    "\n",
    "    For normal z=(0.05*130.1)/(21.21)=0.31\n",
    "    \n",
    "    For T-test z=4.76\n",
    "    \n",
    "**Step 7:** critical value. p-value\n",
    "\n",
    "    Critical value for normal=1.96 / p-value=0.0517\n",
    "    \n",
    "    Critical value for t-test n=100 aprox 1.984. fd=99 but almost similar to 100 / p-value=99%\n",
    "    \n",
    "**Step 8:** conclusions\n",
    "\n",
    "    For normal: we accept the H0\n",
    "    For t-test: we don´t accept the t-test \n",
    "\n"
   ]
  },
  {
   "cell_type": "code",
   "execution_count": 1,
   "id": "931cda94",
   "metadata": {},
   "outputs": [],
   "source": [
    "from scipy.stats import ttest_ind, norm"
   ]
  },
  {
   "cell_type": "code",
   "execution_count": 2,
   "id": "3d716428",
   "metadata": {},
   "outputs": [],
   "source": [
    "\n",
    "import numpy as np\n",
    "from scipy import stats \n",
    "from numpy.random import seed\n",
    "from numpy.random import randn\n",
    "from numpy.random import normal\n",
    "from scipy.stats import ttest_1samp"
   ]
  },
  {
   "cell_type": "code",
   "execution_count": 3,
   "id": "6721dc8b",
   "metadata": {},
   "outputs": [
    {
     "name": "stdout",
     "output_type": "stream",
     "text": [
      "Sample:  [152.508929    82.95930213 154.44988403 114.57950619 135.39075289\n",
      " 138.0038937  130.00303241 173.67243067 104.82570068 133.71765309\n",
      " 124.65493016 137.10127392 116.57802424 114.14929166 145.90158149\n",
      " 149.1348932  134.98675868  79.92671497 120.31909374 161.05556894\n",
      " 132.40759902 162.71167833 120.13710839 119.21697779 104.09312208\n",
      " 136.16404169 142.14347408 131.09929977 121.60958278 135.89018455\n",
      " 130.18211637 141.26727151 141.80736884 166.1293182  104.1539039\n",
      "  91.01606767 135.81740779 114.56135144 124.19157816 126.71957404\n",
      " 147.74513681 120.45819304 116.84412576 103.46311331 123.92453623\n",
      " 109.07551532 167.39993472 147.76040862 114.1607557  131.30979789\n",
      " 133.91441564 122.80096531 154.42373422 132.25957274 192.74045286\n",
      " 118.83444096 120.55096678 153.66948198 171.69573005 135.45252853\n",
      " 136.25279319 156.72983616 112.28866709 131.69736445 144.2072693\n",
      " 158.15133746 175.78387903 118.48845867 139.13718509 156.23573094\n",
      " 171.89077892 139.60199726 122.03962433 118.46447324 128.65483275\n",
      " 143.64568452  84.06405323 130.30650314 119.94201048 118.48669289\n",
      " 155.34989769 151.68942222 125.67992563 127.6063514  121.48390009\n",
      " 137.52024466 138.03273636 105.79879517 121.56474764 160.09418692\n",
      " 119.93462486 123.95919426 149.52580688 125.40815005 131.97372069\n",
      " 131.81978939 155.01761788 142.85508236 108.28158441 153.86615003]\n"
     ]
    }
   ],
   "source": [
    "seed=(1)\n",
    "sample =normal(130.1,21.21,100)\n",
    "print('Sample: ', sample)"
   ]
  },
  {
   "cell_type": "code",
   "execution_count": 4,
   "id": "84038822",
   "metadata": {},
   "outputs": [
    {
     "name": "stdout",
     "output_type": "stream",
     "text": [
      "T-statistic value:  6.286718628679552\n",
      "P-Value:  8.78643781012541e-09\n"
     ]
    }
   ],
   "source": [
    "\n",
    "t_stat, p_value = ttest_1samp(sample, popmean=120)\n",
    "print(\"T-statistic value: \", t_stat)  \n",
    "print(\"P-Value: \", p_value)"
   ]
  },
  {
   "cell_type": "markdown",
   "id": "337b3e34",
   "metadata": {},
   "source": [
    "like calculated by hand we reject the H0 becuase "
   ]
  }
 ],
 "metadata": {
  "kernelspec": {
   "display_name": "Python 3 (ipykernel)",
   "language": "python",
   "name": "python3"
  },
  "language_info": {
   "codemirror_mode": {
    "name": "ipython",
    "version": 3
   },
   "file_extension": ".py",
   "mimetype": "text/x-python",
   "name": "python",
   "nbconvert_exporter": "python",
   "pygments_lexer": "ipython3",
   "version": "3.10.9"
  }
 },
 "nbformat": 4,
 "nbformat_minor": 5
}
