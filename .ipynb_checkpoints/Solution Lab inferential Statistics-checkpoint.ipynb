{
 "cells": [
  {
   "cell_type": "code",
   "execution_count": 1,
   "id": "78bac5d9",
   "metadata": {},
   "outputs": [],
   "source": [
    "#Import Libraries\n",
    "import pandas as pd\n",
    "import numpy as np\n",
    "import datetime\n",
    "import warnings\n",
    "import matplotlib.pyplot as plt\n",
    "import seaborn as sns\n",
    "\n",
    "#Settings\n",
    "warnings.filterwarnings('ignore')\n",
    "pd.set_option('display.max_columns', None) # display all columns\n",
    "pd.set_option('display.max_rows', None) #Show all the rows"
   ]
  },
  {
   "cell_type": "markdown",
   "id": "48af4acd",
   "metadata": {},
   "source": [
    "It is assumed that the mean systolic blood pressure is μ = 120 mm Hg. In the Honolulu Heart Study, a sample of n = 100 people had an average systolic blood pressure of 130.1 mm Hg with a standard deviation of 21.21 mm Hg. Is the group significantly different (with respect to systolic blood pressure!) from the regular population?\n",
    "\n",
    "Set up the hypothesis test.\n",
    "Write down all the steps followed for setting up the test.\n",
    "Calculate the test statistic by hand and also code it in Python. It should be 4.76190. We will take a look at how to make decisions based on this calculated value."
   ]
  },
  {
   "cell_type": "markdown",
   "id": "7f08e868",
   "metadata": {},
   "source": [
    "\n",
    "Hypothesis testing is a way to test the results of an experiment and see if you have meaningful results.\n",
    "\n",
    "* **Null hypothesis:** Denoted with H0, a null hypothesis is an **assumption that the population average is identical to a specific value**. The typical notation is μ = μ0, where μ refers to the population mean and μ0 refers to the hypothesized value.\n",
    "<br><br>\n",
    "* **Alternate hypothesis:** An alternative hypothesis is the opposite of the null hypothesis. We compare this hypothesis with the null hypothesis to decide whether or not we reject the null hypothesis. We denote the alternative hypothesis with H1 or Ha.\n",
    "<br><br>\n",
    "* **Significance Level:** Indicates whether we are confident enough to reject the null hypothesis.\n",
    "<br><br>\n",
    "* **Test Statistic:** Once we determine the type of hypothesis test and that our assumptions have been met, we use our data to decide whether to reject or not reject the null hypothesis. (z-test, t-test)\n",
    "<br><br>\n",
    "* **p-value:** is a measure used to help us reject or not the null hypothesis\n",
    "\n",
    "**Step 1:** The H0 hypothesis is that the average of the sample is not significantly different from the average of the whole population. H0: μ = 120;\n",
    "\n",
    "**Step 2:** Alternate hypothesis Ha: μ =! 85\n",
    "\n",
    "**Step 3:** This is a two tailed test \n",
    "\n",
    "**Step 4:** sample is greater than 30 so we can use t-test or normal\n",
    "\n",
    "**Step 5:** Significance or alpha is defined by me now as 95% or 0.05. Because of two tailed the alpha/2 is 0.025\n",
    "\n",
    "**Step 6:** test statistic\n",
    "\n",
    "    For normal z=(0.05*130.1)/(21.21)=0.31\n",
    "    \n",
    "    For T-test z=4.76\n",
    "    \n",
    "**Step 7:** critical value. p-value\n",
    "\n",
    "    Critical value for normal=1.96 / p-value=0.0517\n",
    "    \n",
    "    Critical value for t-test n=100 aprox 1.984. fd=99 but almost similar to 100 / p-value=99%\n",
    "    \n",
    "**Step 8:** conclusions\n",
    "\n",
    "    For normal: we accept the H0\n",
    "    For t-test: we don´t accept the t-test \n",
    "\n"
   ]
  },
  {
   "cell_type": "code",
   "execution_count": null,
   "id": "931cda94",
   "metadata": {},
   "outputs": [],
   "source": []
  }
 ],
 "metadata": {
  "kernelspec": {
   "display_name": "Python 3 (ipykernel)",
   "language": "python",
   "name": "python3"
  },
  "language_info": {
   "codemirror_mode": {
    "name": "ipython",
    "version": 3
   },
   "file_extension": ".py",
   "mimetype": "text/x-python",
   "name": "python",
   "nbconvert_exporter": "python",
   "pygments_lexer": "ipython3",
   "version": "3.10.9"
  }
 },
 "nbformat": 4,
 "nbformat_minor": 5
}
